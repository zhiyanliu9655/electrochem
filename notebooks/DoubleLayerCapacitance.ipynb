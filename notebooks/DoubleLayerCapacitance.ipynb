{
 "cells": [
  {
   "cell_type": "code",
   "execution_count": 1,
   "metadata": {
    "collapsed": true
   },
   "outputs": [],
   "source": [
    "#Python dependencies\n",
    "from __future__ import division, print_function\n",
    "import numpy as np\n",
    "import matplotlib as mpl\n",
    "import matplotlib.pyplot as plt\n",
    "from scipy.constants import codata"
   ]
  },
  {
   "cell_type": "code",
   "execution_count": 2,
   "metadata": {
    "collapsed": true
   },
   "outputs": [],
   "source": [
    "#change the default font set (matplotlib.rc)\n",
    "mpl.rc('mathtext', fontset='stixsans', default='regular')\n",
    "\n",
    "#increase text size somewhat\n",
    "mpl.rcParams.update({'axes.labelsize':12, 'font.size': 12})"
   ]
  },
  {
   "cell_type": "code",
   "execution_count": 3,
   "metadata": {
    "collapsed": true
   },
   "outputs": [],
   "source": [
    "#set up notebook for inline plotting\n",
    "%matplotlib inline"
   ]
  },
  {
   "cell_type": "code",
   "execution_count": 4,
   "metadata": {
    "collapsed": false
   },
   "outputs": [
    {
     "data": {
      "text/plain": [
       "(96485.3365, 8.3144621, 8.854187817620389e-12)"
      ]
     },
     "execution_count": 4,
     "metadata": {},
     "output_type": "execute_result"
    }
   ],
   "source": [
    "#get constants from CODATA 2010\n",
    "F = codata.physical_constants['Faraday constant'][0]\n",
    "R = codata.physical_constants['molar gas constant'][0]\n",
    "EPSILON_0 = codata.physical_constants['electric constant'][0]\n",
    "F,R,EPSILON_0"
   ]
  },
  {
   "cell_type": "markdown",
   "metadata": {},
   "source": [
    "#Double-Layer Capacitance\n",
    "\n",
    "The following is based mainly on the treatment presented in the book by Oldham, Myland, and Bond: [Electrochemical Science and Technology](http://eu.wiley.com/WileyCDA/WileyTitle/productCd-0470710853.html).\n",
    "Other excellent introductions to electrical double-layers can be found in the books [Electrochemical Methods](http://eu.wiley.com/WileyCDA/WileyTitle/productCd-0471043729.html) by Bard & Faulkner and in [Electrochemical Systems](http://eu.wiley.com/WileyCDA/WileyTitle/productCd-0471477567.html) by Newman and Thomas-Alyea.\n",
    "\n",
    "###Definition of Capacitance\n",
    "\n",
    "Capacitance is defined as the ration of charge, $Q$, and voltage (potential difference), $V$, across the capacitor:\n",
    "\n",
    "$$C = \\dfrac{Q}{V}$$\n",
    "\n",
    "In some cases a capacitor is affected mechanically by charging, and in electrochemical cells the capacitance varies somewhat with the electrode potential, so it is useful to think of capacitance as a differential quantity, i.e. $C_{differential} = C_{d} = \\dfrac{\\mathrm{d}Q}{\\mathrm{d}V}$ or $C_{d} = \\dfrac{\\mathrm{d}Q}{\\mathrm{d}E}$ for a single electrode, with the electrode potential $E$.\n",
    "\n",
    "The integral capacitance is given by \n",
    "\n",
    "$$C_{integral} = \\dfrac{Q(E)}{E-E_{zc}} = \\dfrac{1}{E-E_{zc}} \\int_{E_{zc}}^E {C_{d}}\\mathrm{d}E$$\n",
    "\n",
    "where $Q$ is a function of $E$ and $E_{zc}$ is the *potential of zero charge*.\n",
    "\n",
    "###Capacitance of a Parallel Plate Capacitor\n",
    "\n",
    "A parallel plate capacitor basically is a two-terminal device that can be used to store energy electrostatically. The capacitance of a parallel plate capacitor is given by:\n",
    "\n",
    "$$C_{pp} = \\dfrac{\\epsilon \\epsilon_0 A}{x}$$\n",
    "\n",
    "where $\\epsilon$ is the relative static permittivity (dielectric constant), $\\epsilon_0$ is the permittivity of free space [F m$^{-1}$], and A and x are the area and distance between the plates, respectively.\n",
    "\n",
    "###Capacitance of the Helmholtz Layer\n",
    "\n",
    "The Helmholtz model is essentially a parallel plate capacitor model, and thus the capacitance of the Helmholtz layer is given by:\n",
    "\n",
    "$$\\dfrac{C_{H}}{A} = \\dfrac{\\mathrm{d}q}{\\mathrm{d}E}= \\dfrac{\\epsilon_H \\epsilon_0}{x_H}$$\n",
    "\n",
    "where $q$ is the charge density, $\\epsilon_H$ is the relative dielectric constant of the Helmholtz layer, $\\epsilon_0$ is the permittivity of free space [F], and $A$ and $x_H$ are the area of the electrode and the thickness of the Helmholtz layer, respectively."
   ]
  },
  {
   "cell_type": "code",
   "execution_count": 5,
   "metadata": {
    "collapsed": true
   },
   "outputs": [],
   "source": [
    "def cap_helmholtz(epsilon_H=6.8, x=0.2e-9, A=1e-4):\n",
    "    \"\"\"\n",
    "    *input*\n",
    "    epsilon_H - the relative permittivity of the Helmholtz layer, default is 6.8\n",
    "    x, the thickness of the Helmholtz layer [m], default is 0.2 nm, i.e. 0.2e-9 cm.\n",
    "    A, electrode area [m²], default is 1 cm², i.e. 1e-4\n",
    "    *output*\n",
    "    C,  [F]\n",
    "    \"\"\"\n",
    "    C_H = (epsilon_H*EPSILON_0*A)/x\n",
    "    return C_H"
   ]
  },
  {
   "cell_type": "markdown",
   "metadata": {},
   "source": [
    "The relative permittivity of bulk water at 25$\\,^{\\circ}{\\rm C}$ is 78.5. The solvent molecules and ions in the Helmholtz (or compact) layer are confined in a narrow region and ordered by an intense local electric field, leading to significantly lower relative permittivities than their corresponding bulk values. For water some estimates suggests it could be as low as 5 for water molecules in the inner Helmholtz layer and around 30 for water molecules in the outer Helmholtz layer. \n",
    "\n",
    "To take into account different relative permittivities we have to divide the Helmholtz layer into two series connected parallel plate capacitors, but this is not further explored here. "
   ]
  },
  {
   "cell_type": "code",
   "execution_count": 6,
   "metadata": {
    "collapsed": false
   },
   "outputs": [
    {
     "name": "stdout",
     "output_type": "stream",
     "text": [
      "2.21e-05 F\n"
     ]
    }
   ],
   "source": [
    "#For a Helmholtz layer thickness of 0.2 nm (roughly half the diameter of a hydrated cation), and a relative permittivity of 5:\n",
    "print(round(cap_helmholtz(5,0.2e-9,100e-6),7), 'F')"
   ]
  },
  {
   "cell_type": "markdown",
   "metadata": {},
   "source": [
    "###Capacitance of the Diffuse Layer\n",
    "The Gouy-Chapman model predicts the capacitance of the diffuse double layer to be given by (for a 1:1 electrolyte and monovalent ions):\n",
    "\n",
    "$$ \\dfrac{C_{GC}}{A} = \\sqrt{\\dfrac{2 F^2 \\epsilon \\epsilon_0 c}{RT}} \\mathrm{cosh} \\left[ \\dfrac{F}{2RT} (E-E_{zc}) \\right] $$\n",
    "\n",
    "where $c$ is the concentration of the electrolyte (i.e. $c = c_{cation} = c_{anion}$) in the solution.\n",
    "\n",
    "###The Stern Model\n",
    "The total double layer capacitance can be modeled using a series combination of the Gouy-Chapman model, which models the capacitance of the diffuse double-layer, and the Helmholtz model, which describes the capacitance of the compact double layer that is located closest to the electrode surface, as suggested originally by Stern. This is sometimes referred to as the Gouy-Chapman-Stern model, or just the Stern model.\n",
    "\n",
    "The total capacitance of the two layers would thus be:\n",
    "\n",
    "$$\\dfrac{1}{C_S} = \\dfrac{1}{C_H} + \\dfrac{1}{C_{GC}}$$"
   ]
  },
  {
   "cell_type": "code",
   "execution_count": 7,
   "metadata": {
    "collapsed": false
   },
   "outputs": [],
   "source": [
    "def cap_gouychapman(E,Epz=0,c=10,T=298.15,epsilon=78.54,A=1e-4):\n",
    "    \"\"\"\n",
    "    *input*\n",
    "    E, electrode potential [V]\n",
    "    Epz, potential of zero charge [V], default is 0 V\n",
    "    c [mol/m³], default is 10 mM, i.e. 10e-3 mol/dm³ = 10 mol/m³ \n",
    "    T [K], default is 298.15 K\n",
    "    epsilon [dimensionless]\n",
    "    A, the electrode area in m²    \n",
    "    *output*\n",
    "    C_GC_spec, the capacitance (C_GC) of  \n",
    "    the diffuse double layer as predicted by the Gouy-Chapman model for  \n",
    "    a 1:1 electrolyte with monovalent ions.\n",
    "    \"\"\"\n",
    "    C_GC = A*np.sqrt((2*(F**2)*epsilon*EPSILON_0*c)/(R*T))*np.cosh(F*(E-Epz)/(2*R*T))\n",
    "    return C_GC\n",
    "\n",
    "def cap_stern(E,Epz=0,epsilon_H=6.8,x=0.2e-9,c=10,T=298.15,epsilon=78.54,A=1e-4):\n",
    "    \"\"\"Returns the total double-layer capacitance as predicted by the\n",
    "       Gouy-Chapman-Stern model\"\"\"\n",
    "    C_h = cap_helmholtz(epsilon_H=epsilon_H,x=x,A=A)\n",
    "    C_gc = cap_gouychapman(E,Epz=Epz,c=c,T=T,epsilon=epsilon,A=A)\n",
    "    recip_C_S = 1/C_h + 1/C_gc\n",
    "    return 1/recip_C_S"
   ]
  },
  {
   "cell_type": "markdown",
   "metadata": {},
   "source": [
    "###Relationship between Capacitance and Electrode Potential\n",
    "\n",
    "In the following we will use [matplotlib](http://matplotlib.org/) to visualize the relationship between capacitance and electrode potential around the potential of zero charge. "
   ]
  },
  {
   "cell_type": "code",
   "execution_count": 8,
   "metadata": {
    "collapsed": false
   },
   "outputs": [
    {
     "data": {
      "text/plain": [
       "array([-0.2  , -0.199, -0.198, -0.197, -0.196])"
      ]
     },
     "execution_count": 8,
     "metadata": {},
     "output_type": "execute_result"
    }
   ],
   "source": [
    "#generate a range of potentials\n",
    "E = np.linspace(-0.2,0.2, num=401)\n",
    "E[:5] #check the first five values in the array"
   ]
  },
  {
   "cell_type": "code",
   "execution_count": 9,
   "metadata": {
    "collapsed": false
   },
   "outputs": [
    {
     "data": {
      "text/plain": [
       "(-0.2, 0.2)"
      ]
     },
     "execution_count": 9,
     "metadata": {},
     "output_type": "execute_result"
    },
    {
     "data": {
      "image/png": "[encoded data removed]",
      "text/plain": [
       "<matplotlib.figure.Figure at 0x7f9c647aa750>"
      ]
     },
     "metadata": {},
     "output_type": "display_data"
    }
   ],
   "source": [
    "#now plot the component capacitances and the total as well\n",
    "fig, ax = plt.subplots(nrows=1, ncols=1)\n",
    "\n",
    "#plot the data,multiply by 1e6 to get µF\n",
    "ax.plot(E, 1e6*cap_helmholtz()*np.ones(len(E)), 'b-', label='Helmholtz')\n",
    "ax.plot(E, 1e6*cap_gouychapman(E), 'g-', label='Gouy-Chapman')\n",
    "ax.plot(E, 1e6*cap_stern(E), 'r-', label='Stern')\n",
    "\n",
    "#set axis labels\n",
    "ax.set_xlabel('$E-E_{pz}$ [V]')\n",
    "ax.set_ylabel('C $\\mu F \\cdot cm^{-2}$')\n",
    "\n",
    "#set axis limits\n",
    "ax.set_ylim(0,100)\n",
    "ax.set_xlim(-0.2,0.2)"
   ]
  }
 ],
 "metadata": {
  "kernelspec": {
   "display_name": "Python 2",
   "language": "python",
   "name": "python2"
  },
  "language_info": {
   "codemirror_mode": {
    "name": "ipython",
    "version": 2
   },
   "file_extension": ".py",
   "mimetype": "text/x-python",
   "name": "python",
   "nbconvert_exporter": "python",
   "pygments_lexer": "ipython2",
   "version": "2.7.6"
  }
 },
 "nbformat": 4,
 "nbformat_minor": 0
}
