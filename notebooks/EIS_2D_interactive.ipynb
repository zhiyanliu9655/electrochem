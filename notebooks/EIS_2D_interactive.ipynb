{
 "cells": [
  {
   "cell_type": "markdown",
   "metadata": {},
   "source": [
    "# An Electrochemical Impedance Spectrum in 2D\n",
    "This notebook contains an interactive visualization of the frequency dependent impedance\n",
    "of a simple electrical circuit (usually referred to as an equivalent circuit, or an equivalent circuit model\n",
    "in electrochemistry), -R-(RC)-. The data is displayed in a complex plane plot (a Nyquist plot) and a Bode plot. The latter is usually a plot of the modulus of the impedance, and the phase angle, *vs* the logarithm of the frequency, but in this case I have chosen to plot the (negative of the) imaginary part of the complex impedance *vs* \n",
    "the logarithm of the frequency.\n",
    "\n",
    "The notebook is written for use with Python 3 and uses ipywidgets for interactivity."
   ]
  },
  {
   "cell_type": "code",
   "execution_count": 1,
   "metadata": {
    "collapsed": false
   },
   "outputs": [],
   "source": [
    "#python dependencies\n",
    "import numpy as np\n",
    "import matplotlib as mpl\n",
    "import matplotlib.pyplot as plt\n",
    "from ipywidgets import interact, FloatSlider, RadioButtons\n",
    "\n",
    "#change the default font set (matplotlib.rc)\n",
    "mpl.rc('mathtext', fontset='stixsans', default='regular')\n",
    "#increase text size somewhat\n",
    "mpl.rcParams.update({'axes.labelsize':12, 'font.size': 12})"
   ]
  },
  {
   "cell_type": "code",
   "execution_count": 2,
   "metadata": {
    "collapsed": true
   },
   "outputs": [],
   "source": [
    "#set up notebook for inline plots\n",
    "%matplotlib inline"
   ]
  },
  {
   "cell_type": "code",
   "execution_count": 3,
   "metadata": {
    "collapsed": false
   },
   "outputs": [],
   "source": [
    "#generate an angular frequency range\n",
    "\n",
    "def ang_freq_range(fstart = 9685000, fstop = 0.0968, pts_per_decade = 12):\n",
    "    \"\"\"returns an angular frequency range as a numpy array, \n",
    "       between fstart [Hz] and fstop [Hz], with a set number\n",
    "       of points per decade (defaults to 12)\"\"\"\n",
    "    decades = np.log10(fstart)-np.log10(fstop)\n",
    "    pts_total = np.around(decades*pts_per_decade)\n",
    "    frange = np.logspace(np.log10(fstop),np.log10(fstart), pts_total, endpoint=True)\n",
    "    return 2*np.pi*frange\n",
    "\n",
    "w = ang_freq_range()"
   ]
  },
  {
   "cell_type": "code",
   "execution_count": 4,
   "metadata": {
    "collapsed": false
   },
   "outputs": [],
   "source": [
    "#define function that returns impedance of -R-(RC)- circuit\n",
    "\n",
    "def Z_R_RC(R0, R1, C1, w):\n",
    "    \"\"\"Returns the impedance of a -R-(RC)- circuit.\n",
    "    Input\n",
    "    =====\n",
    "    R0 = series resistance (Ohmic resistance) of circuit\n",
    "    R1 = resistance of parallel connected circuit element\n",
    "    C1 = capacitance of parallel connected circuit element\n",
    "    w = angular frequency, accepts an array as well as a single number\n",
    "    \n",
    "    Output\n",
    "    ======\n",
    "    The frequency dependent impedance as a complex number.\"\"\"\n",
    "    Z_R0 = R0\n",
    "    Z_R1 = R1\n",
    "    Z_C1 = -1j/(w*C1) #capacitive reactance\n",
    "    Z_RC = 1/(1/Z_R1 + 1/Z_C1) #parallel connection\n",
    "    return Z_R0 + Z_RC #Z_R0 and Z_RC connected in series"
   ]
  },
  {
   "cell_type": "code",
   "execution_count": 5,
   "metadata": {
    "collapsed": false
   },
   "outputs": [],
   "source": [
    "#define 2D plot function(Nyquist / Complex Plane)\n",
    "\n",
    "def plot_nyquist(R0,R1,C1):\n",
    "    Z = Z_R_RC(R0,R1,C1,np.logspace(7,0,7*12))\n",
    "    #set up a figure canvas with two plot areas (sets of axes)\n",
    "    fig,ax = plt.subplots(nrows=2, ncols=1)\n",
    "    #add a Nyquist plot (first plot)\n",
    "    ax[0].plot(Z.real, -1*Z.imag, marker='o',ms=5, mec='b', mew=0.7, mfc='none')\n",
    "    ax[0].set_xlim(0,60)\n",
    "    ax[0].set_ylim(0,25)\n",
    "    ax[0].set_aspect('equal')\n",
    "    ax[0].set_xlabel('Z$_{real}$ [$\\Omega$]')\n",
    "    ax[0].set_ylabel('-Z$_{imag}$ [$\\Omega$]')\n",
    "    #add a Bode plot with \n",
    "    ax[1].plot(np.logspace(7,0,7*12)/2*np.pi,-1*Z.imag, marker='o',ms=5, mec='b', mew=0.7, mfc='none')\n",
    "    ax[1].set_xscale(\"log\")\n",
    "    ax[1].set_xlim(min(w),max(w))\n",
    "    ax[1].set_ylim()\n",
    "    ax[1].set_ylabel('-Z$_{imag}$ [$\\Omega$]')\n",
    "    ax[1].set_xlabel('frequency [Hz]')\n",
    "    plt.tight_layout()"
   ]
  },
  {
   "cell_type": "markdown",
   "metadata": {},
   "source": [
    "### Interactive Plot\n",
    "to-do: add text and vector graphic illustrating equivalent circuit used"
   ]
  },
  {
   "cell_type": "code",
   "execution_count": 6,
   "metadata": {
    "collapsed": false
   },
   "outputs": [
    {
     "data": {
      "text/plain": [
       "<function __main__.plot_nyquist>"
      ]
     },
     "execution_count": 6,
     "metadata": {},
     "output_type": "execute_result"
    },
    {
     "data": {
      "image/png": "[encoded data removed]",
      "text/plain": [
       "<matplotlib.figure.Figure at 0x7f46189295c0>"
      ]
     },
     "metadata": {},
     "output_type": "display_data"
    }
   ],
   "source": [
    "interact(plot_nyquist, R0=(1,20), R1=(1,40), C1=(1e-6, 1e-4, 1e-6))"
   ]
  },
  {
   "cell_type": "markdown",
   "metadata": {},
   "source": [
    "JR Johansson's excellent `version information` extension (see [here](https://nbviewer.jupyter.org/github/jrjohansson/version_information/blob/master/example.ipynb) for install and usage instructions):"
   ]
  },
  {
   "cell_type": "code",
   "execution_count": 7,
   "metadata": {
    "collapsed": false
   },
   "outputs": [],
   "source": [
    "%load_ext version_information"
   ]
  },
  {
   "cell_type": "code",
   "execution_count": 8,
   "metadata": {
    "collapsed": false
   },
   "outputs": [
    {
     "data": {
      "application/json": {
       "Software versions": [
        {
         "module": "Python",
         "version": "3.5.2 64bit [GCC 4.4.7 20120313 (Red Hat 4.4.7-1)]"
        },
        {
         "module": "IPython",
         "version": "5.1.0"
        },
        {
         "module": "OS",
         "version": "Linux 4.4.0 53 generic x86_64 with debian stretch sid"
        },
        {
         "module": "numpy",
         "version": "1.10.4"
        },
        {
         "module": "matplotlib",
         "version": "1.5.1"
        },
        {
         "module": "ipywidgets",
         "version": "5.2.2"
        }
       ]
      },
      "text/html": [
       "<table><tr><th>Software</th><th>Version</th></tr><tr><td>Python</td><td>3.5.2 64bit [GCC 4.4.7 20120313 (Red Hat 4.4.7-1)]</td></tr><tr><td>IPython</td><td>5.1.0</td></tr><tr><td>OS</td><td>Linux 4.4.0 53 generic x86_64 with debian stretch sid</td></tr><tr><td>numpy</td><td>1.10.4</td></tr><tr><td>matplotlib</td><td>1.5.1</td></tr><tr><td>ipywidgets</td><td>5.2.2</td></tr><tr><td colspan='2'>Fri Dec 23 12:53:43 2016 GMT</td></tr></table>"
      ],
      "text/latex": [
       "\\begin{tabular}{|l|l|}\\hline\n",
       "{\\bf Software} & {\\bf Version} \\\\ \\hline\\hline\n",
       "Python & 3.5.2 64bit [GCC 4.4.7 20120313 (Red Hat 4.4.7-1)] \\\\ \\hline\n",
       "IPython & 5.1.0 \\\\ \\hline\n",
       "OS & Linux 4.4.0 53 generic x86\\_64 with debian stretch sid \\\\ \\hline\n",
       "numpy & 1.10.4 \\\\ \\hline\n",
       "matplotlib & 1.5.1 \\\\ \\hline\n",
       "ipywidgets & 5.2.2 \\\\ \\hline\n",
       "\\hline \\multicolumn{2}{|l|}{Fri Dec 23 12:53:43 2016 GMT} \\\\ \\hline\n",
       "\\end{tabular}\n"
      ],
      "text/plain": [
       "Software versions\n",
       "Python 3.5.2 64bit [GCC 4.4.7 20120313 (Red Hat 4.4.7-1)]\n",
       "IPython 5.1.0\n",
       "OS Linux 4.4.0 53 generic x86_64 with debian stretch sid\n",
       "numpy 1.10.4\n",
       "matplotlib 1.5.1\n",
       "ipywidgets 5.2.2\n",
       "Fri Dec 23 12:53:43 2016 GMT"
      ]
     },
     "execution_count": 8,
     "metadata": {},
     "output_type": "execute_result"
    }
   ],
   "source": [
    "%version_information numpy, matplotlib, ipywidgets"
   ]
  }
 ],
 "metadata": {
  "anaconda-cloud": {},
  "kernelspec": {
   "display_name": "Python [default]",
   "language": "python",
   "name": "python3"
  },
  "language_info": {
   "codemirror_mode": {
    "name": "ipython",
    "version": 3
   },
   "file_extension": ".py",
   "mimetype": "text/x-python",
   "name": "python",
   "nbconvert_exporter": "python",
   "pygments_lexer": "ipython3",
   "version": "3.5.2"
  },
  "widgets": {
   "state": {
    "d46eabc1628d440d974a2912daeadc5c": {
     "views": [
      {
       "cell_index": 7
      }
     ]
    }
   },
   "version": "1.2.0"
  }
 },
 "nbformat": 4,
 "nbformat_minor": 0
}
