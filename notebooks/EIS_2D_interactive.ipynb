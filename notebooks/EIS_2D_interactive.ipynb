{
 "cells": [
  {
   "cell_type": "markdown",
   "metadata": {},
   "source": [
    "# An Electrochemical Impedance Spectrum in 2D\n",
    "This notebook contains an interactive visualization of the frequency dependent impedance\n",
    "of a simple electrical circuit (usually referred to as an equivalent circuit, or an equivalent circuit model\n",
    "in electrochemistry), -R-(RC)-. The data is displayed in a complex plane plot (a Nyquist plot) and a Bode plot. The latter is usually a plot of the modulus of the impedance, and the phase angle, *vs* the logarithm of the frequency, but in this case I have chosen to plot the (negative of the) imaginary part of the complex impedance *vs* \n",
    "the logarithm of the frequency.\n",
    "\n",
    "The notebook is written for use with Python 3 and uses ipywidgets for interactivity."
   ]
  },
  {
   "cell_type": "code",
   "execution_count": 1,
   "metadata": {
    "collapsed": false
   },
   "outputs": [],
   "source": [
    "#python dependencies\n",
    "import numpy as np\n",
    "import matplotlib as mpl\n",
    "import matplotlib.pyplot as plt\n",
    "from ipywidgets import interact, FloatSlider, RadioButtons\n",
    "\n",
    "#change the default font set (matplotlib.rc)\n",
    "mpl.rc('mathtext', fontset='stixsans', default='regular')\n",
    "#increase text size somewhat\n",
    "mpl.rcParams.update({'axes.labelsize':12, 'font.size': 12})"
   ]
  },
  {
   "cell_type": "code",
   "execution_count": 2,
   "metadata": {
    "collapsed": true
   },
   "outputs": [],
   "source": [
    "#set up notebook for inline plots\n",
    "%matplotlib inline"
   ]
  },
  {
   "cell_type": "code",
   "execution_count": 3,
   "metadata": {
    "collapsed": false
   },
   "outputs": [],
   "source": [
    "#generate an angular frequency range\n",
    "\n",
    "def ang_freq_range(fstart = 9685000, fstop = 0.0968, pts_per_decade = 12):\n",
    "    \"\"\"returns an angular frequency range as a numpy array, \n",
    "       between fstart [Hz] and fstop [Hz], with a set number\n",
    "       of points per decade (defaults to 12)\"\"\"\n",
    "    decades = np.log10(fstart)-np.log10(fstop)\n",
    "    pts_total = np.around(decades*pts_per_decade)\n",
    "    frange = np.logspace(np.log10(fstop),np.log10(fstart), pts_total, endpoint=True)\n",
    "    return 2*np.pi*frange\n",
    "\n",
    "w = ang_freq_range()"
   ]
  },
  {
   "cell_type": "code",
   "execution_count": 4,
   "metadata": {
    "collapsed": false
   },
   "outputs": [],
   "source": [
    "#define function that returns impedance of -R-(RC)- circuit\n",
    "\n",
    "def Z_R_RC(R0, R1, C1, w):\n",
    "    \"\"\"Returns the impedance of a -R-(RC)- circuit.\n",
    "    Input\n",
    "    =====\n",
    "    R0 = series resistance (Ohmic resistance) of circuit\n",
    "    R1 = resistance of parallel connected circuit element\n",
    "    C1 = capacitance of parallel connected circuit element\n",
    "    w = angular frequency, accepts an array as well as a single number\n",
    "    \n",
    "    Output\n",
    "    ======\n",
    "    The frequency dependent impedance as a complex number.\"\"\"\n",
    "    Z_R0 = R0\n",
    "    Z_R1 = R1\n",
    "    Z_C1 = -1j/(w*C1) #capacitive reactance\n",
    "    Z_RC = 1/(1/Z_R1 + 1/Z_C1) #parallel connection\n",
    "    return Z_R0 + Z_RC #Z_R0 and Z_RC connected in series"
   ]
  },
  {
   "cell_type": "code",
   "execution_count": 18,
   "metadata": {
    "collapsed": false
   },
   "outputs": [],
   "source": [
    "#define 2D plot function(Nyquist / Complex Plane)\n",
    "\n",
    "def plot_nyquist(R0,R1,C1):\n",
    "    Z = Z_R_RC(R0,R1,C1,np.logspace(7,0,7*12))\n",
    "    #set up a figure canvas with two plot areas (sets of axes)\n",
    "    fig,ax = plt.subplots(nrows=2, ncols=1)\n",
    "    #add a Nyquist plot (first plot)\n",
    "    ax[0].plot(Z.real, -1*Z.imag, marker='o',ms=5, mec='b', mew=0.7, mfc='none')\n",
    "    ax[0].set_xlim(0,60)\n",
    "    ax[0].set_ylim(0,25)\n",
    "    ax[0].set_aspect('equal')\n",
    "    ax[0].set_xlabel('Z$_{real}$ [$\\Omega$]')\n",
    "    ax[0].set_ylabel('-Z$_{imag}$ [$\\Omega$]')\n",
    "    #add a Bode plot with \n",
    "    ax[1].plot(np.logspace(7,0,7*12)/2*np.pi,-1*Z.imag, marker='o',ms=5, mec='b', mew=0.7, mfc='none')\n",
    "    ax[1].set_xscale(\"log\")\n",
    "    ax[1].set_xlim(min(w),max(w))\n",
    "    ax[1].set_ylim()\n",
    "    ax[1].set_ylabel('-Z$_{imag}$ [$\\Omega$]')\n",
    "    ax[1].set_xlabel('frequency [Hz]')\n",
    "    plt.tight_layout()"
   ]
  },
  {
   "cell_type": "markdown",
   "metadata": {},
   "source": [
    "### Interactive Plot\n",
    "to-do: add text and vector graphic illustrating equivalent circuit used"
   ]
  },
  {
   "cell_type": "code",
   "execution_count": 19,
   "metadata": {
    "collapsed": false
   },
   "outputs": [
    {
     "data": {
      "image/png": "[encoded data removed]",
      "text/plain": [
       "<matplotlib.figure.Figure at 0x7f36c0f494a8>"
      ]
     },
     "metadata": {},
     "output_type": "display_data"
    }
   ],
   "source": [
    "interact(plot_nyquist, R0=(1,20), R1=(1,40), C1=(1e-6, 1e-4, 1e-6))"
   ]
  }
 ],
 "metadata": {
  "kernelspec": {
   "display_name": "Python 3",
   "language": "python",
   "name": "python3"
  },
  "language_info": {
   "codemirror_mode": {
    "name": "ipython",
    "version": 3
   },
   "file_extension": ".py",
   "mimetype": "text/x-python",
   "name": "python",
   "nbconvert_exporter": "python",
   "pygments_lexer": "ipython3",
   "version": "3.5.1"
  }
 },
 "nbformat": 4,
 "nbformat_minor": 0
}
