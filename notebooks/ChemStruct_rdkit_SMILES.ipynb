{
 "cells": [
  {
   "cell_type": "markdown",
   "metadata": {},
   "source": [
    "#Drawing Chemical Structures from SMILES strings\n",
    "\n",
    "This notebook is only a simple example of how one can draw chemical structures with [rdkit](http://www.rdkit.org/docs/index.html) using SMILES strings. An excellent and more comprehensive notebook on this topic can be found [here](http://nbviewer.ipython.org/gist/greglandrum/4316433). There is also an \"getting-started\" introduction to using rdkit\n",
    "in Python on the rdkit website, see this [link](http://www.rdkit.org/docs/GettingStartedInPython.html)."
   ]
  },
  {
   "cell_type": "code",
   "execution_count": 13,
   "metadata": {
    "collapsed": true
   },
   "outputs": [],
   "source": [
    "#first import rdkit\n",
    "from rdkit import Chem\n",
    "#IPythonConsole needed to display the structure in the notebook\n",
    "from rdkit.Chem.Draw import IPythonConsole, MolToFile"
   ]
  },
  {
   "cell_type": "markdown",
   "metadata": {},
   "source": [
    "Now we can get a SMILES (simplified molecular input line entry specification) string from\n",
    "a source online. In this case we can use [ChemSpider](http://www.chemspider.com) and find the SMILES for caffeine."
   ]
  },
  {
   "cell_type": "code",
   "execution_count": 14,
   "metadata": {
    "collapsed": true
   },
   "outputs": [],
   "source": [
    "caffeine = 'Cn1cnc2c1c(=O)n(c(=O)n2C)C'"
   ]
  },
  {
   "cell_type": "markdown",
   "metadata": {},
   "source": [
    "To display this structure we simply ask rdkit to display the structure."
   ]
  },
  {
   "cell_type": "code",
   "execution_count": 15,
   "metadata": {
    "collapsed": false
   },
   "outputs": [
    {
     "data": {
      "image/png": "[encoded data removed]",
      "text/plain": [
       "<rdkit.Chem.rdchem.Mol at 0x7f39a5bdeec0>"
      ]
     },
     "execution_count": 15,
     "metadata": {},
     "output_type": "execute_result"
    }
   ],
   "source": [
    "m = Chem.MolFromSmiles(caffeine)\n",
    "m"
   ]
  },
  {
   "cell_type": "markdown",
   "metadata": {},
   "source": [
    "To save the structure to an image file, we can use the command `MolToFile` from `rdkit.Chem.Draw`. Uncomment one of the following lines to save the file to a png image file."
   ]
  },
  {
   "cell_type": "code",
   "execution_count": 20,
   "metadata": {
    "collapsed": false
   },
   "outputs": [],
   "source": [
    "#MolToFile(m, 'caffeine.pdf')\n",
    "#MolToFile(m, 'caffeine.svg')\n",
    "#MolToFile(m, 'caffeine.png')"
   ]
  }
 ],
 "metadata": {
  "kernelspec": {
   "display_name": "Python 2",
   "language": "python",
   "name": "python2"
  },
  "language_info": {
   "codemirror_mode": {
    "name": "ipython",
    "version": 2
   },
   "file_extension": ".py",
   "mimetype": "text/x-python",
   "name": "python",
   "nbconvert_exporter": "python",
   "pygments_lexer": "ipython2",
   "version": "2.7.6"
  }
 },
 "nbformat": 4,
 "nbformat_minor": 0
}
