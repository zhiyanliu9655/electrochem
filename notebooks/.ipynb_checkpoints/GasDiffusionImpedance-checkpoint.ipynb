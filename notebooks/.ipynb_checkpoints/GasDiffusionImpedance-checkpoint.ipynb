{
 "cells": [
  {
   "cell_type": "code",
   "execution_count": 9,
   "metadata": {
    "collapsed": true
   },
   "outputs": [],
   "source": [
    "#python dependencies\n",
    "from __future__ import division, print_function\n",
    "import sys\n",
    "import numpy as np\n",
    "import matplotlib as mpl\n",
    "import matplotlib.pyplot as plt"
   ]
  },
  {
   "cell_type": "code",
   "execution_count": 11,
   "metadata": {
    "collapsed": false
   },
   "outputs": [
    {
     "name": "stdout",
     "output_type": "stream",
     "text": [
      "Python version: 2.7.6 (default, Jun 22 2015, 17:58:13) \n",
      "[GCC 4.8.2]\n",
      "Numpy version: 1.9.1\n",
      "Matplotlib version: 1.4.2\n"
     ]
    }
   ],
   "source": [
    "#software versions\n",
    "print('Python version:', sys.version)\n",
    "print('Numpy version:', np.__version__)\n",
    "print('Matplotlib version:', mpl.__version__)"
   ]
  },
  {
   "cell_type": "markdown",
   "metadata": {},
   "source": [
    "#Gas Diffusion Impedance\n",
    "This notebook contains expressions for calculation of gas diffusion impedance along with the gas diffusion resistance and capacitance in solid oxide cells. It focusses on diffusion across stagnant layers of finite thickness and the parameters needed to carry out these calculations.\n",
    "\n",
    "Use with caution as it is under construction...\n",
    "\n",
    "Any comments or suggestions for improvement are more than welcome. Adding material to this notebook can be done by forking the repository and submitting a pull request, or by downloading the notebook, editing it, and then sending it back by email to <johh@dtu.dk>.\n",
    "\n",
    "####References:\n",
    "1. Primdahl, S.; Mogensen, M. Gas Diffusion Impedance in Characterization of Solid Oxide Fuel Cell Anodes. Journal of The Electrochemical Society 1999, 146 (8), 2827–2833.\n",
    "2. \n",
    "3. "
   ]
  },
  {
   "cell_type": "code",
   "execution_count": null,
   "metadata": {
    "collapsed": true
   },
   "outputs": [],
   "source": [
    "###Diffusion Coefficients\n",
    "\n",
    "####The Fuller Correlation\n",
    "\n",
    "####Binary Diffusion\n",
    "\n",
    "####Knudsen Diffusion\n",
    "\n",
    "####Diffusion Volume and Molecular Weights"
   ]
  }
 ],
 "metadata": {
  "kernelspec": {
   "display_name": "Python 2",
   "language": "python",
   "name": "python2"
  },
  "language_info": {
   "codemirror_mode": {
    "name": "ipython",
    "version": 2
   },
   "file_extension": ".py",
   "mimetype": "text/x-python",
   "name": "python",
   "nbconvert_exporter": "python",
   "pygments_lexer": "ipython2",
   "version": "2.7.6"
  }
 },
 "nbformat": 4,
 "nbformat_minor": 0
}
